{
 "cells": [
  {
   "cell_type": "code",
   "execution_count": 1,
   "metadata": {},
   "outputs": [
    {
     "data": {
      "text/plain": [
       "10"
      ]
     },
     "execution_count": 1,
     "metadata": {},
     "output_type": "execute_result"
    }
   ],
   "source": [
    "5+5"
   ]
  },
  {
   "cell_type": "code",
   "execution_count": 2,
   "metadata": {},
   "outputs": [
    {
     "name": "stderr",
     "output_type": "stream",
     "text": [
      "c:\\Users\\user\\anaconda3\\envs\\medical_chatbot_opensource_llm_llama2\\lib\\site-packages\\pinecone\\index.py:4: TqdmWarning: IProgress not found. Please update jupyter and ipywidgets. See https://ipywidgets.readthedocs.io/en/stable/user_install.html\n",
      "  from tqdm.autonotebook import tqdm\n"
     ]
    }
   ],
   "source": [
    "from langchain import PromptTemplate\n",
    "from langchain.chains import RetrievalQA\n",
    "from langchain.embeddings import HuggingFaceEmbeddings\n",
    "from langchain.vectorstores import Pinecone\n",
    "import pinecone\n",
    "from langchain.document_loaders import PyMuPDFLoader,DirectoryLoader, PyPDFLoader\n",
    "from langchain.text_splitter import RecursiveCharacterTextSplitter\n",
    "from langchain.prompts import PromptTemplate\n",
    "from langchain.llms import CTransformers"
   ]
  },
  {
   "cell_type": "code",
   "execution_count": 23,
   "metadata": {},
   "outputs": [],
   "source": [
    "# embedding model in dimension is 384, this will be useful while creating PINECONE_API_ENV\n",
    "\n",
    "PINECONE_API_KEY = 'XXXXXXXXXXXXXX'\n",
    "PINECONE_API_ENV = 'XXXXXX' \n",
    "\n",
    "embedding_model_name=\"sentence-transformers/all-MiniLM-L6-v2\"\n"
   ]
  },
  {
   "cell_type": "code",
   "execution_count": 4,
   "metadata": {},
   "outputs": [],
   "source": [
    "#extract the data from pdf\n",
    "\n",
    "def load_pdf(data):\n",
    "   loader =  DirectoryLoader(data,\n",
    "                    glob = '*.pdf',\n",
    "                    loader_cls=PyPDFLoader)\n",
    "   documents = loader.load()\n",
    "\n",
    "   return documents\n"
   ]
  },
  {
   "cell_type": "code",
   "execution_count": 5,
   "metadata": {},
   "outputs": [],
   "source": [
    "extracted_data = load_pdf('data/')"
   ]
  },
  {
   "cell_type": "code",
   "execution_count": 6,
   "metadata": {},
   "outputs": [
    {
     "data": {
      "text/plain": [
       "list"
      ]
     },
     "execution_count": 6,
     "metadata": {},
     "output_type": "execute_result"
    }
   ],
   "source": [
    "type(extracted_data)"
   ]
  },
  {
   "cell_type": "code",
   "execution_count": 7,
   "metadata": {},
   "outputs": [
    {
     "data": {
      "text/plain": [
       "'TheGALE\\nENCYCLOPEDIA\\nofMEDICINE\\nSECOND EDITION\\nJACQUELINE L. LONGE, EDITOR\\nDEIRDRE S. BLANCHFIELD, ASSOCIATE EDITOR\\nVOLUME\\nA-B1'"
      ]
     },
     "execution_count": 7,
     "metadata": {},
     "output_type": "execute_result"
    }
   ],
   "source": [
    "#page wise data\n",
    "\n",
    "extracted_data[2].page_content"
   ]
  },
  {
   "cell_type": "code",
   "execution_count": 8,
   "metadata": {},
   "outputs": [],
   "source": [
    "# create text chunks\n",
    "\n",
    "def text_split(extracted_data):\n",
    "    text_splitter = RecursiveCharacterTextSplitter(chunk_size = 500 , chunk_overlap = 20)\n",
    "    text_chunks = text_splitter.split_documents(extracted_data)\n",
    "    return text_chunks\n",
    "\n",
    "\n"
   ]
  },
  {
   "cell_type": "code",
   "execution_count": 9,
   "metadata": {},
   "outputs": [
    {
     "name": "stdout",
     "output_type": "stream",
     "text": [
      "length of text chunks : 7020\n"
     ]
    }
   ],
   "source": [
    "text_chunks = text_split(extracted_data)\n",
    "print('length of text chunks :', len(text_chunks))"
   ]
  },
  {
   "cell_type": "code",
   "execution_count": 10,
   "metadata": {},
   "outputs": [
    {
     "data": {
      "text/plain": [
       "list"
      ]
     },
     "execution_count": 10,
     "metadata": {},
     "output_type": "execute_result"
    }
   ],
   "source": [
    "type(text_chunks)"
   ]
  },
  {
   "cell_type": "code",
   "execution_count": 11,
   "metadata": {},
   "outputs": [],
   "source": [
    "# download embedding model\n",
    "\n",
    "def download_hugging_face_embeddings(embedding_model_name):\n",
    "    embeddings = HuggingFaceEmbeddings(model_name=embedding_model_name)\n",
    "    return embeddings\n",
    "\n"
   ]
  },
  {
   "cell_type": "code",
   "execution_count": 12,
   "metadata": {},
   "outputs": [],
   "source": [
    "embeddings = download_hugging_face_embeddings(embedding_model_name)"
   ]
  },
  {
   "cell_type": "code",
   "execution_count": 13,
   "metadata": {},
   "outputs": [
    {
     "data": {
      "text/plain": [
       "HuggingFaceEmbeddings(client=SentenceTransformer(\n",
       "  (0): Transformer({'max_seq_length': 256, 'do_lower_case': False}) with Transformer model: BertModel \n",
       "  (1): Pooling({'word_embedding_dimension': 384, 'pooling_mode_cls_token': False, 'pooling_mode_mean_tokens': True, 'pooling_mode_max_tokens': False, 'pooling_mode_mean_sqrt_len_tokens': False})\n",
       "  (2): Normalize()\n",
       "), model_name='sentence-transformers/all-MiniLM-L6-v2', cache_folder=None, model_kwargs={}, encode_kwargs={})"
      ]
     },
     "execution_count": 13,
     "metadata": {},
     "output_type": "execute_result"
    }
   ],
   "source": [
    "embeddings"
   ]
  },
  {
   "cell_type": "code",
   "execution_count": 14,
   "metadata": {},
   "outputs": [
    {
     "name": "stdout",
     "output_type": "stream",
     "text": [
      "Length :  384\n"
     ]
    }
   ],
   "source": [
    "query_result = embeddings.embed_query('Hello world')\n",
    "print('Length : ', len(query_result))"
   ]
  },
  {
   "cell_type": "code",
   "execution_count": 15,
   "metadata": {},
   "outputs": [
    {
     "data": {
      "text/plain": [
       "[-0.03447727859020233,\n",
       " 0.03102315217256546,\n",
       " 0.006734953261911869,\n",
       " 0.02610895223915577,\n",
       " -0.03936200961470604,\n",
       " -0.16030248999595642,\n",
       " 0.06692399084568024,\n",
       " -0.006441458594053984,\n",
       " -0.04745051637291908,\n",
       " 0.014758842997252941,\n",
       " 0.07087532430887222,\n",
       " 0.055527545511722565,\n",
       " 0.019193314015865326,\n",
       " -0.02625134028494358,\n",
       " -0.010109533555805683,\n",
       " -0.026940464973449707,\n",
       " 0.022307470440864563,\n",
       " -0.022226575762033463,\n",
       " -0.1496926248073578,\n",
       " -0.0174929928034544,\n",
       " 0.007676254957914352,\n",
       " 0.0543522909283638,\n",
       " 0.003254421753808856,\n",
       " 0.03172592446208,\n",
       " -0.08462145179510117,\n",
       " -0.0294059906154871,\n",
       " 0.051595594733953476,\n",
       " 0.04812406003475189,\n",
       " -0.003314807778224349,\n",
       " -0.05827919393777847,\n",
       " 0.04196925461292267,\n",
       " 0.02221064642071724,\n",
       " 0.1281888782978058,\n",
       " -0.02233896031975746,\n",
       " -0.011656253598630428,\n",
       " 0.06292839348316193,\n",
       " -0.032876305282115936,\n",
       " -0.0912260115146637,\n",
       " -0.031175408512353897,\n",
       " 0.05269954353570938,\n",
       " 0.04703480377793312,\n",
       " -0.08420310914516449,\n",
       " -0.030056172981858253,\n",
       " -0.020744821056723595,\n",
       " 0.009517848491668701,\n",
       " -0.003721776884049177,\n",
       " 0.00734333461150527,\n",
       " 0.039324305951595306,\n",
       " 0.09327404201030731,\n",
       " -0.0037885834462940693,\n",
       " -0.0527421198785305,\n",
       " -0.05805816873908043,\n",
       " -0.006864387542009354,\n",
       " 0.005283247213810682,\n",
       " 0.08289302885532379,\n",
       " 0.019362756982445717,\n",
       " 0.006284509785473347,\n",
       " -0.010330800898373127,\n",
       " 0.009032338857650757,\n",
       " -0.037683747708797455,\n",
       " -0.04520610719919205,\n",
       " 0.024016322568058968,\n",
       " -0.006944138091057539,\n",
       " 0.013491671532392502,\n",
       " 0.10005493462085724,\n",
       " -0.07168388366699219,\n",
       " -0.021695099771022797,\n",
       " 0.03161843866109848,\n",
       " -0.05163466930389404,\n",
       " -0.08224771171808243,\n",
       " -0.06569332629442215,\n",
       " -0.00989535078406334,\n",
       " 0.005816393531858921,\n",
       " 0.07355456799268723,\n",
       " -0.034050315618515015,\n",
       " 0.02488609403371811,\n",
       " 0.014488053508102894,\n",
       " 0.02645738236606121,\n",
       " 0.00965670682489872,\n",
       " 0.030217226594686508,\n",
       " 0.052803974598646164,\n",
       " -0.07535990327596664,\n",
       " 0.009897175244987011,\n",
       " 0.029836799949407578,\n",
       " 0.017555562779307365,\n",
       " 0.023091984912753105,\n",
       " 0.0019338224083185196,\n",
       " 0.0014002337120473385,\n",
       " -0.04717595875263214,\n",
       " -0.011194334365427494,\n",
       " -0.11420144140720367,\n",
       " -0.019811946898698807,\n",
       " 0.040266238152980804,\n",
       " 0.002193012274801731,\n",
       " -0.07979220896959305,\n",
       " -0.02538229711353779,\n",
       " 0.09448297321796417,\n",
       " -0.028981119394302368,\n",
       " -0.14500252902507782,\n",
       " 0.230977401137352,\n",
       " 0.027731189504265785,\n",
       " 0.03211143985390663,\n",
       " 0.031064976006746292,\n",
       " 0.04283280670642853,\n",
       " 0.06423777341842651,\n",
       " 0.0321631096303463,\n",
       " -0.0048767197877168655,\n",
       " 0.055699415504932404,\n",
       " -0.037532366812229156,\n",
       " -0.02150549553334713,\n",
       " -0.028342634439468384,\n",
       " -0.028846977278590202,\n",
       " 0.038353048264980316,\n",
       " -0.017468703910708427,\n",
       " 0.052485328167676926,\n",
       " -0.07487604022026062,\n",
       " -0.03125975653529167,\n",
       " 0.02184157632291317,\n",
       " -0.039895664900541306,\n",
       " -0.008587099611759186,\n",
       " 0.026956569403409958,\n",
       " -0.04849553108215332,\n",
       " 0.011469860561192036,\n",
       " 0.029618224129080772,\n",
       " -0.0205722376704216,\n",
       " 0.013103888370096684,\n",
       " 0.02883347123861313,\n",
       " -3.1941961460863415e-33,\n",
       " 0.06478209793567657,\n",
       " -0.018130209296941757,\n",
       " 0.05178995057940483,\n",
       " 0.12198273837566376,\n",
       " 0.028780126944184303,\n",
       " 0.008722039870917797,\n",
       " -0.07052116096019745,\n",
       " -0.016907211393117905,\n",
       " 0.04073973745107651,\n",
       " 0.042116209864616394,\n",
       " 0.025447210296988487,\n",
       " 0.035746246576309204,\n",
       " -0.04914475604891777,\n",
       " 0.0021290387958288193,\n",
       " -0.01554653700441122,\n",
       " 0.05073054879903793,\n",
       " -0.048185352236032486,\n",
       " 0.03588063642382622,\n",
       " -0.004067081492394209,\n",
       " 0.10172472894191742,\n",
       " -0.05597002059221268,\n",
       " -0.010680994018912315,\n",
       " 0.011235766112804413,\n",
       " 0.09068651497364044,\n",
       " 0.004234486725181341,\n",
       " 0.035138681530952454,\n",
       " -0.009702864103019238,\n",
       " -0.09386516362428665,\n",
       " 0.09285550564527512,\n",
       " 0.008004920557141304,\n",
       " -0.007705376949161291,\n",
       " -0.0520867295563221,\n",
       " -0.012587985023856163,\n",
       " 0.0032669547945261,\n",
       " 0.006013503763824701,\n",
       " 0.007581549230962992,\n",
       " 0.010517176240682602,\n",
       " -0.08634557574987411,\n",
       " -0.06987881660461426,\n",
       " -0.002533914754167199,\n",
       " -0.09097658842802048,\n",
       " 0.04688730090856552,\n",
       " 0.05207653343677521,\n",
       " 0.007193855941295624,\n",
       " 0.010903596878051758,\n",
       " -0.005229517351835966,\n",
       " 0.01393731776624918,\n",
       " 0.021968364715576172,\n",
       " 0.03420865908265114,\n",
       " 0.06022467464208603,\n",
       " 0.00011665730562526733,\n",
       " 0.014731957577168941,\n",
       " -0.07008925825357437,\n",
       " 0.028499014675617218,\n",
       " -0.027601689100265503,\n",
       " 0.010768428444862366,\n",
       " 0.03483093902468681,\n",
       " -0.022487903013825417,\n",
       " 0.00976896844804287,\n",
       " 0.07722780853509903,\n",
       " 0.021588338539004326,\n",
       " 0.11495620757341385,\n",
       " -0.0680011659860611,\n",
       " 0.023760991171002388,\n",
       " -0.01598391681909561,\n",
       " -0.017826952040195465,\n",
       " 0.06439488381147385,\n",
       " 0.032025717198848724,\n",
       " 0.050270289182662964,\n",
       " -0.005913723260164261,\n",
       " -0.03370803967118263,\n",
       " 0.017840256914496422,\n",
       " 0.016573341563344002,\n",
       " 0.06329653412103653,\n",
       " 0.03467719256877899,\n",
       " 0.04647350683808327,\n",
       " 0.09790612757205963,\n",
       " -0.006635474041104317,\n",
       " 0.02520706318318844,\n",
       " -0.07798833400011063,\n",
       " 0.016926443204283714,\n",
       " -0.0009458390413783491,\n",
       " 0.022471874952316284,\n",
       " -0.03825313597917557,\n",
       " 0.09570480138063431,\n",
       " -0.005350796971470118,\n",
       " 0.010469052940607071,\n",
       " -0.11524050682783127,\n",
       " -0.013262514024972916,\n",
       " -0.010709403082728386,\n",
       " -0.0831172838807106,\n",
       " 0.07327359169721603,\n",
       " 0.049392230808734894,\n",
       " -0.008994347415864468,\n",
       " -0.09584558010101318,\n",
       " 3.3661485617505796e-33,\n",
       " 0.12493185698986053,\n",
       " 0.0193497147411108,\n",
       " -0.05822570621967316,\n",
       " -0.035988274961709976,\n",
       " -0.05074671283364296,\n",
       " -0.045662377029657364,\n",
       " -0.08260340243577957,\n",
       " 0.14819474518299103,\n",
       " -0.08842121809720993,\n",
       " 0.06027443706989288,\n",
       " 0.051030173897743225,\n",
       " 0.010303139686584473,\n",
       " 0.1412142813205719,\n",
       " 0.030813798308372498,\n",
       " 0.061033088713884354,\n",
       " -0.052851248532533646,\n",
       " 0.13664892315864563,\n",
       " 0.009189906530082226,\n",
       " -0.017325179651379585,\n",
       " -0.012848666869103909,\n",
       " -0.007995298132300377,\n",
       " -0.0509800910949707,\n",
       " -0.05235067009925842,\n",
       " 0.007593044079840183,\n",
       " -0.015166286379098892,\n",
       " 0.01696033589541912,\n",
       " 0.021270522847771645,\n",
       " 0.020558049902319908,\n",
       " -0.12002810090780258,\n",
       " 0.014461829327046871,\n",
       " 0.026759890839457512,\n",
       " 0.025330662727355957,\n",
       " -0.0427546426653862,\n",
       " 0.006768485996872187,\n",
       " -0.0144585520029068,\n",
       " 0.0452619306743145,\n",
       " -0.0914764404296875,\n",
       " -0.01943914033472538,\n",
       " -0.017833493649959564,\n",
       " -0.054910168051719666,\n",
       " -0.05264109745621681,\n",
       " -0.010459041222929955,\n",
       " -0.052016064524650574,\n",
       " 0.020892024040222168,\n",
       " -0.07997032254934311,\n",
       " -0.012111252173781395,\n",
       " -0.05773143470287323,\n",
       " 0.02317829057574272,\n",
       " -0.008031720295548439,\n",
       " -0.025989245623350143,\n",
       " -0.07995674014091492,\n",
       " -0.020728865638375282,\n",
       " 0.04881766065955162,\n",
       " -0.02038915455341339,\n",
       " -0.049176573753356934,\n",
       " 0.014159660786390305,\n",
       " -0.06362199783325195,\n",
       " -0.0078073968179523945,\n",
       " 0.016431495547294617,\n",
       " -0.025682469829916954,\n",
       " 0.013381111435592175,\n",
       " 0.026248814538121223,\n",
       " 0.00997839029878378,\n",
       " 0.06322886794805527,\n",
       " 0.0026721754111349583,\n",
       " -0.006582712288945913,\n",
       " 0.016631949692964554,\n",
       " 0.032366473227739334,\n",
       " 0.037942416965961456,\n",
       " -0.03637605160474777,\n",
       " -0.006910939700901508,\n",
       " 0.00015965636703185737,\n",
       " -0.0016335509717464447,\n",
       " -0.027278196066617966,\n",
       " -0.028038080781698227,\n",
       " 0.049681417644023895,\n",
       " -0.02886717952787876,\n",
       " -0.0024180591572076082,\n",
       " 0.014774865470826626,\n",
       " 0.009764586575329304,\n",
       " 0.005797593388706446,\n",
       " 0.013486127369105816,\n",
       " 0.005567886400967836,\n",
       " 0.03722710534930229,\n",
       " 0.007232542149722576,\n",
       " 0.04015619680285454,\n",
       " 0.08150329440832138,\n",
       " 0.07199165225028992,\n",
       " -0.013056145049631596,\n",
       " -0.0428820364177227,\n",
       " -0.011011188849806786,\n",
       " 0.004897826351225376,\n",
       " -0.009229756891727448,\n",
       " 0.035191524773836136,\n",
       " -0.051035039126873016,\n",
       " -1.571437557856825e-08,\n",
       " -0.08862437307834625,\n",
       " 0.023909319192171097,\n",
       " -0.016238752752542496,\n",
       " 0.0317004956305027,\n",
       " 0.02728424221277237,\n",
       " 0.05246882140636444,\n",
       " -0.0470709428191185,\n",
       " -0.058847472071647644,\n",
       " -0.0632081851363182,\n",
       " 0.04088856279850006,\n",
       " 0.049827899783849716,\n",
       " 0.10655169934034348,\n",
       " -0.0745023563504219,\n",
       " -0.012495397590100765,\n",
       " 0.01837068609893322,\n",
       " 0.03947414085268974,\n",
       " -0.02479790709912777,\n",
       " 0.014516288414597511,\n",
       " -0.03706921637058258,\n",
       " 0.020015737041831017,\n",
       " -4.860683111473918e-05,\n",
       " 0.009866577573120594,\n",
       " 0.024838745594024658,\n",
       " -0.05245810002088547,\n",
       " 0.029314173385500908,\n",
       " -0.08719189465045929,\n",
       " -0.014499726705253124,\n",
       " 0.026019064709544182,\n",
       " -0.018746376037597656,\n",
       " -0.07620511204004288,\n",
       " 0.035043325275182724,\n",
       " 0.10363949835300446,\n",
       " -0.028050510212779045,\n",
       " 0.012718206271529198,\n",
       " -0.07632549852132797,\n",
       " -0.018652385100722313,\n",
       " 0.0249767042696476,\n",
       " 0.08144533634185791,\n",
       " 0.06875890493392944,\n",
       " -0.0640566498041153,\n",
       " -0.08389381319284439,\n",
       " 0.061362382024526596,\n",
       " -0.03354548290371895,\n",
       " -0.10615337640047073,\n",
       " -0.04008055105805397,\n",
       " 0.03253021836280823,\n",
       " 0.07662482559680939,\n",
       " -0.0730162262916565,\n",
       " 0.000337573466822505,\n",
       " -0.040871620178222656,\n",
       " -0.0757884681224823,\n",
       " 0.027527673169970512,\n",
       " 0.07462543994188309,\n",
       " 0.01771729625761509,\n",
       " 0.09121842682361603,\n",
       " 0.11022024601697922,\n",
       " 0.0005698264576494694,\n",
       " 0.05146333575248718,\n",
       " -0.014551352709531784,\n",
       " 0.033232033252716064,\n",
       " 0.023792292922735214,\n",
       " -0.022889815270900726,\n",
       " 0.038937509059906006,\n",
       " 0.030206844210624695]"
      ]
     },
     "execution_count": 15,
     "metadata": {},
     "output_type": "execute_result"
    }
   ],
   "source": [
    "query_result\n"
   ]
  },
  {
   "cell_type": "code",
   "execution_count": null,
   "metadata": {},
   "outputs": [],
   "source": [
    "#Initializing the Pinecone\n",
    "pinecone.init(api_key=PINECONE_API_KEY,\n",
    "              environment=PINECONE_API_ENV)\n",
    "\n",
    "index_name=\"medical-chatbot-opensource-llm-llama2\"\n",
    "\n",
    "#Creating Embeddings for Each of The Text Chunks & storing\n",
    "docsearch=Pinecone.from_texts([t.page_content for t in text_chunks], embeddings, index_name=index_name)"
   ]
  },
  {
   "cell_type": "code",
   "execution_count": 24,
   "metadata": {},
   "outputs": [
    {
     "name": "stdout",
     "output_type": "stream",
     "text": [
      "Result :  [Document(page_content='the itchy, scratchy nose, eyes, and throat common inallergic rhinitis .\\nThe particular allergens to which a person is sensi-', metadata={}), Document(page_content=\"GALE ENCYCLOPEDIA OF MEDICINE 2 117Allergies\\nAllergic rhinitis is commonly triggered by\\nexposure to household dust, animal fur,or pollen. The foreign substance thattriggers an allergic reaction is calledan allergen.\\nThe presence of an allergen causes the\\nbody's lymphocytes to begin producingIgE antibodies. The lymphocytes of an allergy sufferer produce an unusuallylarge amount of IgE.\\nIgE molecules attach to mast\\ncells, which contain histamine.HistaminePollen grains\\nLymphocyte\\nFIRST EXPOSURE\", metadata={}), Document(page_content='allergens are the following:\\n• plant pollens\\n• animal fur and dander\\n• body parts from house mites (microscopic creatures\\nfound in all houses)\\n• house dust• mold spores• cigarette smoke• solvents• cleaners\\nCommon food allergens include the following:\\n• nuts, especially peanuts, walnuts, and brazil nuts\\n• fish, mollusks, and shellfish• eggs• wheat• milk• food additives and preservatives\\nThe following types of drugs commonly cause aller-\\ngic reactions:\\n• penicillin or other antibiotics', metadata={})]\n"
     ]
    }
   ],
   "source": [
    "# if we already have an index, we can load it like this.\n",
    "pinecone.init(api_key=PINECONE_API_KEY,\n",
    "              environment=PINECONE_API_ENV)\n",
    "\n",
    "index_name=\"medical-chatbot-opensource-llm-llama2\"\n",
    "\n",
    "docsearch = Pinecone.from_existing_index(index_name,embeddings)\n",
    "\n",
    "query = \"what are allergies ?\"\n",
    "\n",
    "docs = docsearch.similarity_search(query, k=3)\n",
    "\n",
    "print(\"Result : \", docs)"
   ]
  },
  {
   "cell_type": "code",
   "execution_count": 25,
   "metadata": {},
   "outputs": [],
   "source": [
    "# send these to LLM ang get the correct answer\n",
    "\n",
    "prompt_template=\"\"\"\n",
    "Use the following pieces of information to answer the user's question.\n",
    "If you don't know the answer, just say that you don't know, don't try to make up an answer.\n",
    "\n",
    "Context: {context}\n",
    "Question: {question}\n",
    "\n",
    "Only return the helpful answer below and nothing else.\n",
    "Helpful answer:\n",
    "\"\"\""
   ]
  },
  {
   "cell_type": "code",
   "execution_count": 26,
   "metadata": {},
   "outputs": [],
   "source": [
    "PROMPT = PromptTemplate(template=prompt_template, input_variables=[\"context\" , \"question\"])\n",
    "chain_type_kwargs={\"prompt\": PROMPT}"
   ]
  },
  {
   "cell_type": "code",
   "execution_count": 27,
   "metadata": {},
   "outputs": [],
   "source": [
    "llm = CTransformers(model = \"model/llama-2-7b-chat.ggmlv3.q4_0.bin\", model_type=\"llama\",\n",
    "                    config = {'max_new_tokens':512,\n",
    "                          'temperature':0.8})\n"
   ]
  },
  {
   "cell_type": "code",
   "execution_count": 28,
   "metadata": {},
   "outputs": [],
   "source": [
    "# create question answering object\n",
    "\n",
    "qa=RetrievalQA.from_chain_type(\n",
    "    llm=llm, \n",
    "    chain_type=\"stuff\", \n",
    "    retriever=docsearch.as_retriever(search_kwargs={'k': 2}),\n",
    "    return_source_documents=True, \n",
    "    chain_type_kwargs=chain_type_kwargs)"
   ]
  },
  {
   "cell_type": "code",
   "execution_count": 30,
   "metadata": {},
   "outputs": [
    {
     "name": "stdout",
     "output_type": "stream",
     "text": [
      "Response :  Allergy is an abnormal response of the immune system to a substance (allergen) that is typically harmless to most people. When this occurs, the immune system produces antibodies to fight off the allergen, leading to a range of symptoms including sneezing, congestion, runny nose, itchy eyes, and difficulty breathing.\n"
     ]
    }
   ],
   "source": [
    "user_input=input(f\"Input Prompt:\")\n",
    "result=qa({\"query\": user_input})\n",
    "print(\"Response : \", result[\"result\"])"
   ]
  },
  {
   "cell_type": "code",
   "execution_count": null,
   "metadata": {},
   "outputs": [],
   "source": [
    "# ask a question\n",
    "\n",
    "# while True:\n",
    "#     user_input=input(f\"Input Prompt:\")\n",
    "#     result=qa({\"query\": user_input})\n",
    "#     print(\"Response : \", result[\"result\"])"
   ]
  }
 ],
 "metadata": {
  "kernelspec": {
   "display_name": "medical_chatbot_opensource_llm_llama2",
   "language": "python",
   "name": "python3"
  },
  "language_info": {
   "codemirror_mode": {
    "name": "ipython",
    "version": 3
   },
   "file_extension": ".py",
   "mimetype": "text/x-python",
   "name": "python",
   "nbconvert_exporter": "python",
   "pygments_lexer": "ipython3",
   "version": "3.8.18"
  }
 },
 "nbformat": 4,
 "nbformat_minor": 2
}
